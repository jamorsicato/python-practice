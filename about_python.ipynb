{
 "cells": [
  {
   "cell_type": "markdown",
   "id": "marine-material",
   "metadata": {},
   "source": [
    "###\n",
    "\n",
    "- Add a section on python version numbers\n",
    "- add section on using python shell \n",
    "- sys and os "
   ]
  },
  {
   "cell_type": "markdown",
   "id": "competent-residence",
   "metadata": {},
   "source": [
    "## Vocabulary\n",
    "\n",
    "- __Syntatic Sugar__: syntax that is made to make things easier and more readable =\n",
    "- __Pythonic__: a way to write code that is inline with python philosophy"
   ]
  }
 ],
 "metadata": {
  "kernelspec": {
   "display_name": "Python 3",
   "language": "python",
   "name": "python3"
  },
  "language_info": {
   "codemirror_mode": {
    "name": "ipython",
    "version": 3
   },
   "file_extension": ".py",
   "mimetype": "text/x-python",
   "name": "python",
   "nbconvert_exporter": "python",
   "pygments_lexer": "ipython3",
   "version": "3.6.12"
  }
 },
 "nbformat": 4,
 "nbformat_minor": 5
}
