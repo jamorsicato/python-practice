{
 "cells": [
  {
   "cell_type": "markdown",
   "id": "further-egyptian",
   "metadata": {},
   "source": [
    "###\n",
    "\n",
    "- Add a section on python version numbers\n",
    "- add section on using python shell \n",
    "- "
   ]
  }
 ],
 "metadata": {
  "kernelspec": {
   "display_name": "Python 3",
   "language": "python",
   "name": "python3"
  },
  "language_info": {
   "codemirror_mode": {
    "name": "ipython",
    "version": 3
   },
   "file_extension": ".py",
   "mimetype": "text/x-python",
   "name": "python",
   "nbconvert_exporter": "python",
   "pygments_lexer": "ipython3",
   "version": "3.6.12"
  }
 },
 "nbformat": 4,
 "nbformat_minor": 5
}
