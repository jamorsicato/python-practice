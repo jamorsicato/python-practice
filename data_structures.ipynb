{
 "cells": [
  {
   "cell_type": "markdown",
   "id": "further-egyptian",
   "metadata": {},
   "source": [
    "###\n",
    "\n",
    "- Add a section on python version numbers\n",
    "- add section on using python shell \n",
    "- \n",
    "\n",
    "\n",
    "# TABLE OF CONTENTS \n",
    "- [Dictionaries](#dictionaries)\n",
    "- [Maps](maps)\n",
    "\n",
    "## Arrays\n",
    "- [Hash Tables](#hash-tables)\n",
    "- [List](list)\n",
    "- [Tuples](tuples)"
   ]
  },
  {
   "cell_type": "markdown",
   "id": "actual-silicon",
   "metadata": {},
   "source": [
    "## Lists\n",
    "\n",
    "list \n",
    "- sequences \n",
    "- holds any data type and can be non-homogenous\n",
    "\n",
    "\n",
    "## Tuple\n",
    "\n",
    "tuple \n",
    "- immutable\n",
    "- holds any data type and can be non-homogenous\n",
    "\n",
    "## Set \n",
    "\n",
    "set \n",
    "- stores non duplicate items \n",
    "- good for mathmatical comparisons\n",
    "- holds any data type and can be non-homogenous\n",
    "\n",
    "## Sequences \n"
   ]
  },
  {
   "cell_type": "code",
   "execution_count": 24,
   "id": "approved-death",
   "metadata": {},
   "outputs": [],
   "source": [
    "# Lists\n",
    "\n",
    "# Definitions\n",
    "\n",
    "list_x = [1,2,3,4,5,6,7,8]  # range from 0 to 20\n",
    "list_y = [\"a\",'b',[1,2],3]\n",
    "\n",
    "# Slicing \n",
    "\n",
    "list_x[1:4]         # 1st through 4th element\n",
    "list_x[1:6:2]       # 1st through 6th element, but every other one\n",
    "list_x[3:]          # 3rd till last item \n",
    "list_x[:5]          # begining till 5th item  \n",
    "list_x[-1]          # last item \n",
    "list_x[-3:]         # last three items\n",
    "list_x[:-2]         # begining till last two items\n",
    "\n",
    "# adding/ concatinating\n",
    "\n",
    "list_z = list_y + list_x\n",
    "z = 'bug ' * 3 # copys bug 3 times\n",
    "\n",
    "# Checking membership (Is an element in or not in a sequence)\n",
    "bool_check = 'u' in z           # check if 'u' is in string z\n",
    "bool_check = \"a\" not in list_z      # checks is value is in list\n",
    "\n",
    "\n",
    "\n",
    "# Tuple \n",
    "\n",
    "\n",
    "\n",
    "# Set \n",
    "\n",
    "\n",
    "\n",
    "# Sequences\n",
    "\n"
   ]
  },
  {
   "cell_type": "markdown",
   "id": "transparent-stations",
   "metadata": {},
   "source": [
    "## Dictionaries\n",
    "\n",
    "### dict\n",
    "- So importan python has the __dict__ thats robust \n",
    "- Syntatic Sugar ({}) allows us to define new dictionary objects\n",
    "- Dictionary comprehension like zip(*) makes dict creation easier\n",
    "- Little reason to not use the standard dict class\n",
    "- Dictionary Comprehension \n",
    "    - swapping keys and values\n",
    "    - filtering values\n",
    "    \n",
    "\n",
    "- Keys can be any hashable type (a value whos hash value will never change)\n",
    "    - Strings and Numbers \n",
    "    \n",
    "## Defining a dictionary \n",
    "- d = { key : value, ..., key : value }  __Associative array__ array that maps keys to value \n",
    "- d = dict([(key,value),(...),(key,value)]) __built in dict() function__\n",
    "- d = dict( [ key = \"value\" ,..., key2 = \"value2\"]) __dict using keyword arguments__\n",
    "\n",
    "## Accesing Values\n",
    "- d['key'] returns -> 'value' or raises exception if not in dictionary \n",
    "- d['key'] = 'value' adds new value to existing dictionary \n",
    "- d[-1] DOES NOT WORK, you cant access dicts like a list\n",
    "\n",
    "\n",
    "## Keys\n",
    "- any immutable data type (int, strings, floats, booleans, object like types)\n",
    "       - d = {True:1, ..., int:2, ..., float:2}  \n",
    "- __Restrictions__\n",
    "    - can not have duplicate keys \n",
    "    - \n",
    "    "
   ]
  },
  {
   "cell_type": "code",
   "execution_count": 29,
   "id": "medieval-restaurant",
   "metadata": {},
   "outputs": [
    {
     "name": "stdout",
     "output_type": "stream",
     "text": [
      "{'jonny': 26, 'dikhsya': 30, 'jack': 27, 'sam': 29}\n",
      "{26: 'jonny', 30: 'dikhsya', 27: 'jack', 29: 'sam'}\n",
      "{'dikhsya': 30, 'jack': 27, 'sam': 29}\n",
      "{0: 0, 1: 1, 2: 4, 3: 9, 4: 16}\n",
      "The sum of the squares dict using list comprehension is: 30\n"
     ]
    }
   ],
   "source": [
    "# standard declaration\n",
    "\n",
    "contacts = {\n",
    "      \"jonny\": 26,\n",
    "    \"dikhsya\": 30,\n",
    "       \"jack\": 27,\n",
    "        \"sam\": 29\n",
    "           }\n",
    "\n",
    "# List commprehension method\n",
    "\n",
    "squares = {x:x*x for x in range(5)}\n",
    "\n",
    "# Swapping key/values\n",
    "# function value : key and inputs the old values switched\n",
    "\n",
    "new_contacts = {value : key for key, value in contacts.items()}\n",
    "\n",
    "# filter out contacts\n",
    "\n",
    "old_contacts = {key : value for key, value in contacts.items() if value > 26}\n",
    "\n",
    "# Basic Calculations\n",
    "\n",
    "sum_squares = sum([value for value in squares.values()])\n",
    "\n",
    "# Display the dictionaries\n",
    "\n",
    "print(contacts)\n",
    "print(new_contacts)\n",
    "print(old_contacts)\n",
    "print(squares)\n",
    "print(\"The sum of the squares dict using list comprehension is: \" + str(sum_squares))"
   ]
  },
  {
   "cell_type": "markdown",
   "id": "north-stretch",
   "metadata": {},
   "source": [
    "## Collections.OrederedDict:\n",
    "\n",
    "- python remembers the order of key insertions\n",
    "- important if key order is crucial for alogrithm"
   ]
  },
  {
   "cell_type": "code",
   "execution_count": 1,
   "id": "inappropriate-casino",
   "metadata": {},
   "outputs": [],
   "source": [
    "## IMPORTS \n",
    "\n",
    "import collections # for ordered dictionaries"
   ]
  },
  {
   "cell_type": "code",
   "execution_count": 25,
   "id": "indoor-pound",
   "metadata": {},
   "outputs": [],
   "source": [
    "## Linked Lists"
   ]
  }
 ],
 "metadata": {
  "kernelspec": {
   "display_name": "Python 3",
   "language": "python",
   "name": "python3"
  },
  "language_info": {
   "codemirror_mode": {
    "name": "ipython",
    "version": 3
   },
   "file_extension": ".py",
   "mimetype": "text/x-python",
   "name": "python",
   "nbconvert_exporter": "python",
   "pygments_lexer": "ipython3",
   "version": "3.6.12"
  }
 },
 "nbformat": 4,
 "nbformat_minor": 5
}
