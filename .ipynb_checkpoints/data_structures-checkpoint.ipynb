{
 "cells": [
  {
   "cell_type": "markdown",
   "id": "further-egyptian",
   "metadata": {},
   "source": [
    "###\n",
    "\n",
    "- Add a section on python version numbers\n",
    "- add section on using python shell \n",
    "- \n",
    "\n",
    "\n",
    "# TABLE OF CONTENTS \n",
    "- [Dictionaries](#dictionaries)\n",
    "- [Maps](maps)\n",
    "\n",
    "## Arrays\n",
    "- [Hash Tables](#hash-tables)\n",
    "- [List](list)\n",
    "- [Tuples](tuples)\n",
    "-"
   ]
  },
  {
   "cell_type": "markdown",
   "id": "transparent-stations",
   "metadata": {},
   "source": [
    "## Dictionaries\n",
    "\n",
    "### dict\n",
    "- So importan python has the __dict__ thats robust \n",
    "- Syntatic Sugar ({}) allows us to define new dictionary objects\n",
    "- Dictionary comprehension like zip(*) makes dict creation easier\n",
    "- Little reason to not use the standard dict class\n",
    "- Dictionary Comprehension \n",
    "    - swapping keys and values\n",
    "    - filtering values\n",
    "    \n",
    "\n",
    "- Keys can be any hashable type (a value whos hash value will never change)\n",
    "    - Strings and Numbers \n",
    "    "
   ]
  },
  {
   "cell_type": "code",
   "execution_count": 29,
   "id": "medieval-restaurant",
   "metadata": {},
   "outputs": [
    {
     "name": "stdout",
     "output_type": "stream",
     "text": [
      "{'jonny': 26, 'dikhsya': 30, 'jack': 27, 'sam': 29}\n",
      "{26: 'jonny', 30: 'dikhsya', 27: 'jack', 29: 'sam'}\n",
      "{'dikhsya': 30, 'jack': 27, 'sam': 29}\n",
      "{0: 0, 1: 1, 2: 4, 3: 9, 4: 16}\n",
      "The sum of the squares dict using list comprehension is: 30\n"
     ]
    }
   ],
   "source": [
    "# standard declaration\n",
    "\n",
    "contacts = {\n",
    "      \"jonny\": 26,\n",
    "    \"dikhsya\": 30,\n",
    "       \"jack\": 27,\n",
    "        \"sam\": 29\n",
    "           }\n",
    "\n",
    "# List commprehension method\n",
    "\n",
    "squares = {x:x*x for x in range(5)}\n",
    "\n",
    "# Swapping key/values\n",
    "# function value : key and inputs the old values switched\n",
    "\n",
    "new_contacts = {value : key for key, value in contacts.items()}\n",
    "\n",
    "# filter out contacts\n",
    "\n",
    "old_contacts = {key : value for key, value in contacts.items() if value > 26}\n",
    "\n",
    "# Basic Calculations\n",
    "\n",
    "sum_squares = sum([value for value in squares.values()])\n",
    "\n",
    "# Display the dictionaries\n",
    "\n",
    "print(contacts)\n",
    "print(new_contacts)\n",
    "print(old_contacts)\n",
    "print(squares)\n",
    "print(\"The sum of the squares dict using list comprehension is: \" + str(sum_squares))"
   ]
  },
  {
   "cell_type": "markdown",
   "id": "north-stretch",
   "metadata": {},
   "source": [
    "## Collections.OrederedDict:\n",
    "\n",
    "- python remembers the order of key insertions\n",
    "- important if key order is crucial for alogrithm"
   ]
  },
  {
   "cell_type": "code",
   "execution_count": 1,
   "id": "inappropriate-casino",
   "metadata": {},
   "outputs": [],
   "source": [
    "## IMPORTS \n",
    "\n",
    "import collections # for ordered dictionaries"
   ]
  }
 ],
 "metadata": {
  "kernelspec": {
   "display_name": "Python 3",
   "language": "python",
   "name": "python3"
  },
  "language_info": {
   "codemirror_mode": {
    "name": "ipython",
    "version": 3
   },
   "file_extension": ".py",
   "mimetype": "text/x-python",
   "name": "python",
   "nbconvert_exporter": "python",
   "pygments_lexer": "ipython3",
   "version": "3.6.12"
  }
 },
 "nbformat": 4,
 "nbformat_minor": 5
}
